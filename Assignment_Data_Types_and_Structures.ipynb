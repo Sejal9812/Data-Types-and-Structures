{
  "nbformat": 4,
  "nbformat_minor": 0,
  "metadata": {
    "colab": {
      "provenance": []
    },
    "kernelspec": {
      "name": "python3",
      "display_name": "Python 3"
    },
    "language_info": {
      "name": "python"
    }
  },
  "cells": [
    {
      "cell_type": "markdown",
      "source": [
        "# Theory Question!!!!!\n",
        "Q1.\n",
        "###What are data structures, and why are they important?\n",
        "###Ans. Data structures are specialized formats for organizing, storing, and accessing collections of data. They provide efficient ways to manage information based on its characteristics and intended use.\n",
        "###Importance:-\n",
        "###1.Choosing the right data structure significantly impacts the efficiency and performance of your program.\n",
        "###2.Well-chosen data structures can:\n",
        "###3.Simplify data manipulation (adding, removing, modifying elements)\n",
        "###4.Optimize searching and sorting operations\n",
        "###5.Conserve memory usage\n",
        "\n",
        "Q2.\n",
        "###Explain the difference between mutable and immutable data types with examples?\n",
        "###Ans. Mutable data types can be changed after creation, while immutable data types cannot.\n",
        "\n",
        " ****Examples of mutable data type****\n",
        "###1.Lists\n",
        "In Python, lists are mutable, meaning you can add, remove, or change elements.\n",
        "###2.Dictionaries\n",
        "In Python, dictionaries are mutable, meaning you can change their values or data.\n",
        "###3.Sets\n",
        "In Python, sets are mutable, meaning you can change their values.\n",
        "###4.Arrays\n",
        "In JavaScript, arrays are mutable, meaning you can add, remove, or update their elements.\n",
        "\n",
        "***Examples of immutable data types***\n",
        "###1.Strings:\n",
        "In Python, strings are immutable, meaning you cannot change their content after creation.\n",
        "###2.Tuples:\n",
        "In Python, tuples are immutable, meaning you cannot change their elements after creation.\n",
        "###3.Integers:\n",
        " In Python, integers are immutable, meaning you cannot change their values.\n",
        "###4.Floats:\n",
        "In Python, floats are immutable, meaning you cannot change their values.\n",
        "###5.Numbers:\n",
        "In JavaScript, numbers are immutable, meaning you cannot change their values.\n",
        "\n",
        "Q3.\n",
        "###What are the main differences between lists and tuples in Python??\n",
        "###Ans.The main difference between tuples and lists is that tuples are immutable, meaning their contents cannot be changed after creation, while lists are mutable and can be modified. Additionally, tuples are more memory-efficient compared to lists.\n",
        "\n",
        "Q4.\n",
        "###Describe how dictionaries store data?\n",
        "###Ans.Dictionaries are used to store data values in key:value pairs. A dictionary is a collection which is ordered*, changeable and do not allow duplicates.\n",
        "\n",
        "Q5.\n",
        "###Why might you use a set instead of a list in Python??\n",
        "###Ans.Lists and tuples are standard Python data types that store values in a sequence. Sets are another standard Python data type that also store values. The major difference is that sets, unlike lists or tuples, cannot have multiple occurrences of the same element and store unordered values.\n",
        "\n",
        "Q6.\n",
        "###What is a string in Python, and how is it different from a list??\n",
        "###Ans.Strings in Python are sequences of characters enclosed in quotes ('' or “”). Lists are ordered collections of items enclosed in square brackets []. 2) Strings are immutable, meaning they cannot be changed once created, while lists are mutable and can be modified as needed.\n",
        "\n",
        "Q7.\n",
        "###How do tuples ensure data integrity in Python?\n",
        "###Ans.Tuples in Python are immutable, meaning once they are created, they cannot be changed. This characteristic can be leveraged for data integrity by using tuples for data that should not be modified after creation\n",
        "\n",
        "Q8.  \n",
        "###What is a hash table, and how does it relate to dictionaries in Python??\n",
        "###Ans.A hash table is a data structure that allows you to store a collection of key-value pairs. In a hash table, the key of every key-value pair must be hashable, because the pairs stored are indexed by using the hash of their keys\n",
        "\n",
        "Q9.\n",
        "###Can lists contain different data types in Python\n",
        "###Ans. Although it's not really common, a list can also contain a mix of Python types including strings, floats, and booleans.\n",
        "###However, in Python, lists can contain heterogeneous data types and objects. For instance, integers, strings, and even functions can be stored within the same list.\n",
        "\n",
        "Q10.\n",
        "###Explain why strings are immutable in Python??\n",
        "###Ans.Strings in Python are immutable to ensure memory efficiency, data security, and reliable performance. By being immutable, strings can be stored and reused through a technique called string interning, which saves memory by storing only one copy of identical strings. This immutability also makes strings secure, preventing accidental or malicious changes to sensitive data such as passwords. Additionally, immutability allows strings to be hashable, enabling their use as keys in dictionaries and elements in sets, which require consistent and unchangeable values.\n",
        "\n",
        "Q11.\n",
        "###What advantages do dictionaries offer over lists for certain tasks?\n",
        "####Ans. ***Advantages of Dictionaries over Lists***\n",
        "###1.Fast Data Lookup:\n",
        "Retrieving data using keys is faster than searching through a list.\n",
        "###2.Key-Value Pairs:\n",
        "Store data as key-value pairs, making information easier to manage.\n",
        "###3.Unique Keys:\n",
        "Keys are unique, helping avoid duplicate entries.\n",
        "###4.Flexible Data Types:\n",
        "Keys and values can be different types, unlike list indices.\n",
        "###5.Better Organization:\n",
        "Useful for structured data, like storing user details or configurations.\n",
        "\n",
        "Q12.\n",
        "###Describe a scenario where using a tuple would be preferable over a list??\n",
        "###Ans. A tuple is better than a list when you need to store data that shouldn’t change, like days of the week. **For example**, if you store (\"Monday\", \"Tuesday\", \"Wednesday\", \"Thursday\", \"Friday\", \"Saturday\", \"Sunday\") as a tuple, you prevent accidental changes to the days. Tuples are also faster than lists, so they are a good choice for storing fixed data that doesn't need to be modified.\n",
        "\n",
        "Q13.\n",
        "### How do sets handle duplicate values in Python3\n",
        "###Ans.In Python, sets automatically remove duplicates. When you try to add a duplicate value to a set, it simply ignores it. For example, if you try to add the same element multiple times, the set will only store it once. This behavior ensures that every element in a set is unique. Sets are useful when you want to store data without worrying about duplicates, like keeping track of unique items in a collection.\n",
        "\n",
        "Q14.\n",
        "###How does the “in” keyword work differently for lists and dictionaries?\n",
        "###Ans.The in keyword works differently for lists and dictionaries in Python:-\n",
        "For Lists: The in keyword checks if a value is present in the list. It searches through all the elements to see if the value exists.\n",
        "**Example:***\n",
        "my_list = [1, 2, 3]\n",
        "print(2 in my_list)  # True\n",
        "\n",
        "###For Dictionaries:\n",
        "The in keyword checks if a key exists in the dictionary, not the value. It looks through the dictionary's keys.\n",
        "**Example:***\n",
        "my_dict = {\"a\": 1, \"b\": 2}\n",
        "print(\"a\" in my_dict)  # True\n",
        "**So, in lists, in checks for values, while in dictionaries, it checks for keys.**\n",
        "\n",
        "Q15.\n",
        "###Can you modify the elements of a tuple? Explain why or why not?\n",
        "###Ans.No, you cannot modify the elements of a tuple because tuples are immutable. Once a tuple is created, its values cannot be changed. This is done to ensure the data remains constant and reliable.\n",
        "\n",
        "Q16.\n",
        "###What is a nested dictionary, and give an example of its use case?\n",
        "###Ans.A nested dictionary is a dictionary that contains another dictionary as a value. It's useful for storing complex data that needs multiple levels of organization.\n",
        "***Example**\n",
        "students = {\n",
        "    \"John\": {\"age\": 15, \"grade\": \"A\"},\n",
        "    \"Sarah\": {\"age\": 14, \"grade\": \"B\"}\n",
        "}\n",
        "###This can be used to store student information where each student’s name is the key, and their age and grade are stored in another dictionary.\n",
        "\n",
        "Q17.\n",
        "###Describe the time complexity of accessing elements in a dictionary.\n",
        "###Ans.Accessing elements in a dictionary is O(1) on average. This means it’s very fast because dictionaries are built using hash tables, allowing quick lookups by key.\n",
        "\n",
        "Q18.  \n",
        "###In what situations are lists preferred over dictionaries?\n",
        "###Ans.Lists are preferred over dictionaries when:\n",
        "###1.You need to maintain order of the elements.\n",
        "###2.You want to store duplicate values.\n",
        "###3.You need to use operations like sorting or indexing.\n",
        "\n",
        "Q19.\n",
        "###Why are dictionaries considered unordered, and how does that affect data retrieval?\n",
        "###Ans.Dictionaries are considered unordered because their elements don’t have a fixed order. While Python 3.7+ maintains insertion order, the key focus is that data is accessed by key, not order. This makes retrieval fast but does not guarantee any specific order for the elements.\n",
        "\n",
        "Q20.\n",
        "###Explain the difference between a list and a dictionary in terms of data retrieval?\n",
        "###Ans.Lists are retrieved by index. The data is ordered, so you access elements based on their position.\n",
        "Dictionaries are retrieved by key. They store data in key-value pairs, and you access values by their unique key.\n",
        "\n",
        "\n"
      ],
      "metadata": {
        "id": "c1EhJEHD_mCa"
      }
    },
    {
      "cell_type": "code",
      "source": [
        "#1. Write a code to create a string with your name and print it\n",
        "string1 = \"Sejal Rana\"\n",
        "print(string1)"
      ],
      "metadata": {
        "colab": {
          "base_uri": "https://localhost:8080/"
        },
        "id": "Qs9HfflChvQm",
        "outputId": "f910d4d1-e965-486e-b80d-7af761d162b6"
      },
      "execution_count": null,
      "outputs": [
        {
          "output_type": "stream",
          "name": "stdout",
          "text": [
            "Sejal Rana\n"
          ]
        }
      ]
    },
    {
      "cell_type": "code",
      "source": [
        "#2. Write a code to find the length of the string \"Hello World\"\n",
        "str1 = \"Hello world\"\n",
        "print(str1)\n",
        "len(str1)"
      ],
      "metadata": {
        "colab": {
          "base_uri": "https://localhost:8080/"
        },
        "id": "sCspdudY_0te",
        "outputId": "c3878c14-566e-4dcb-e80f-8ea14d45fff1"
      },
      "execution_count": null,
      "outputs": [
        {
          "output_type": "stream",
          "name": "stdout",
          "text": [
            "Hello world\n"
          ]
        },
        {
          "output_type": "execute_result",
          "data": {
            "text/plain": [
              "11"
            ]
          },
          "metadata": {},
          "execution_count": 3
        }
      ]
    },
    {
      "cell_type": "code",
      "source": [
        "#3. Write a code to slice the first 3 characters from the string \"Python Programming\"\n",
        "string = \"Python Programming\"\n",
        "print(string[0:3])\n"
      ],
      "metadata": {
        "colab": {
          "base_uri": "https://localhost:8080/"
        },
        "id": "HjgUiYt0DUsh",
        "outputId": "c4834b1e-cf67-4242-91eb-7e11ef0330c2"
      },
      "execution_count": null,
      "outputs": [
        {
          "output_type": "stream",
          "name": "stdout",
          "text": [
            "Pyt\n"
          ]
        }
      ]
    },
    {
      "cell_type": "code",
      "source": [
        " #4. Write a code to convert the string \"hello\" to uppercase\n",
        " a = \"hello\"\n",
        " print(a.upper())"
      ],
      "metadata": {
        "colab": {
          "base_uri": "https://localhost:8080/"
        },
        "id": "BW5FJVKQEEx5",
        "outputId": "7f6d37ab-cf7c-4a00-d0b2-42b69f066be0"
      },
      "execution_count": null,
      "outputs": [
        {
          "output_type": "stream",
          "name": "stdout",
          "text": [
            "HELLO\n"
          ]
        }
      ]
    },
    {
      "cell_type": "code",
      "source": [
        " #5. Write a code to replace the word \"apple\" with \"orange\" in the string \"I like apple\"\n",
        "string = \"I like apple\"\n",
        "string.replace(\"apple\",\"orange\")\n",
        "\n"
      ],
      "metadata": {
        "colab": {
          "base_uri": "https://localhost:8080/",
          "height": 35
        },
        "id": "F-koODJ5GKIo",
        "outputId": "74cf7483-0321-4f99-d0cf-40c9fd2a66be"
      },
      "execution_count": null,
      "outputs": [
        {
          "output_type": "execute_result",
          "data": {
            "text/plain": [
              "'I like orange'"
            ],
            "application/vnd.google.colaboratory.intrinsic+json": {
              "type": "string"
            }
          },
          "metadata": {},
          "execution_count": 6
        }
      ]
    },
    {
      "cell_type": "code",
      "source": [
        "#6. Write a code to create a list with numbers 1 to 5 and print it\n",
        "list = [1,2,3,4,5]\n",
        "print(list)"
      ],
      "metadata": {
        "colab": {
          "base_uri": "https://localhost:8080/"
        },
        "id": "NuLX_40eHSpO",
        "outputId": "e82d0c14-3a71-4aeb-aedc-a7bff8d8729b"
      },
      "execution_count": null,
      "outputs": [
        {
          "output_type": "stream",
          "name": "stdout",
          "text": [
            "[1, 2, 3, 4, 5]\n"
          ]
        }
      ]
    },
    {
      "cell_type": "code",
      "source": [
        "#7. Write a code to append the number 10 to the list [1, 2, 3, 4]\n",
        "list = [1,2,3,4]\n",
        "list.append(10)\n",
        "print(list)\n"
      ],
      "metadata": {
        "colab": {
          "base_uri": "https://localhost:8080/"
        },
        "id": "Ok8mKmR1HhY7",
        "outputId": "8331a85e-12d1-44b0-a621-bbb14fe90ccf"
      },
      "execution_count": null,
      "outputs": [
        {
          "output_type": "stream",
          "name": "stdout",
          "text": [
            "[1, 2, 3, 4, 10]\n"
          ]
        }
      ]
    },
    {
      "cell_type": "code",
      "source": [
        "#8. Write a code to remove the number 3 from the list [1, 2, 3, 4, 5]\n",
        "list1 = [1,2,3,4,5]\n",
        "list1.remove(3)\n",
        "print(list1)"
      ],
      "metadata": {
        "colab": {
          "base_uri": "https://localhost:8080/"
        },
        "id": "VOwf-h6BIQKq",
        "outputId": "5158f1c4-5b8a-43b3-eca3-d707802e84cc"
      },
      "execution_count": null,
      "outputs": [
        {
          "output_type": "stream",
          "name": "stdout",
          "text": [
            "[1, 2, 4, 5]\n"
          ]
        }
      ]
    },
    {
      "cell_type": "code",
      "source": [
        " #9. Write a code to access the second element in the list ['a', 'b', 'c', 'd']\n",
        "list = ['a','b','c','d']\n",
        "print(list[1])"
      ],
      "metadata": {
        "colab": {
          "base_uri": "https://localhost:8080/"
        },
        "id": "6BnwvWNhIxD3",
        "outputId": "a48517ac-7ac2-4bdc-e503-33d212cf245f"
      },
      "execution_count": null,
      "outputs": [
        {
          "output_type": "stream",
          "name": "stdout",
          "text": [
            "b\n"
          ]
        }
      ]
    },
    {
      "cell_type": "code",
      "source": [
        "#10. Write a code to reverse the list [10, 20, 30, 40, 50]\n",
        "list = [10,20,30,40,50]\n",
        "list.reverse()\n",
        "print(list)\n",
        "\n"
      ],
      "metadata": {
        "colab": {
          "base_uri": "https://localhost:8080/"
        },
        "id": "AgwVOlzyJtDb",
        "outputId": "c9432211-d516-4bce-cf77-271d641e6674"
      },
      "execution_count": null,
      "outputs": [
        {
          "output_type": "stream",
          "name": "stdout",
          "text": [
            "[50, 40, 30, 20, 10]\n"
          ]
        }
      ]
    },
    {
      "cell_type": "code",
      "source": [
        "#11. Write a code to create a tuple with the elements 100, 200, 300 and print it\n",
        "tup = (100,200,300)\n",
        "print(tup)"
      ],
      "metadata": {
        "colab": {
          "base_uri": "https://localhost:8080/"
        },
        "id": "XzI1dOF3KOQF",
        "outputId": "79c233e5-5d9b-4d0a-c716-3dc2a5f72425"
      },
      "execution_count": null,
      "outputs": [
        {
          "output_type": "stream",
          "name": "stdout",
          "text": [
            "(100, 200, 300)\n"
          ]
        }
      ]
    },
    {
      "cell_type": "code",
      "source": [
        "#12. Write a code to access the second-to-last element of the tuple ('red', 'green', 'blue', 'yellow').\n",
        "tuple1 = ('red','green','blue','yellow')\n",
        "print(tuple1[-2])\n",
        "# another way\n",
        "tuple2 = ('red','green','blue','yellow')\n",
        "print(tuple2[2])\n"
      ],
      "metadata": {
        "colab": {
          "base_uri": "https://localhost:8080/"
        },
        "id": "x6oaVwqBKTOp",
        "outputId": "1326e84f-ad37-423a-b8a9-3b018684e610"
      },
      "execution_count": null,
      "outputs": [
        {
          "output_type": "stream",
          "name": "stdout",
          "text": [
            "blue\n",
            "blue\n"
          ]
        }
      ]
    },
    {
      "cell_type": "code",
      "source": [
        "\n",
        "#13. Write a code to find the minimum number in the tuple (10, 20, 5, 15)\n",
        "TUPLE3 =(10,20,5,15)\n",
        "print(min(TUPLE3))\n",
        "\n",
        "\n"
      ],
      "metadata": {
        "colab": {
          "base_uri": "https://localhost:8080/"
        },
        "id": "y29hAWxMMY_6",
        "outputId": "ec8eef45-916d-4467-e57e-d7b457ca78af"
      },
      "execution_count": null,
      "outputs": [
        {
          "output_type": "stream",
          "name": "stdout",
          "text": [
            "5\n"
          ]
        }
      ]
    },
    {
      "cell_type": "code",
      "source": [
        " #14. Write a code to find the index of the element \"cat\" in the tuple ('dog', 'cat', 'rabbit').\n",
        "tuple4 = ('dog','cat','rabbit')\n",
        "print(tuple4.index('cat'))"
      ],
      "metadata": {
        "colab": {
          "base_uri": "https://localhost:8080/"
        },
        "id": "3lG8jSDkKhuo",
        "outputId": "834381da-ba14-42e6-b85c-acae3a41d0b4"
      },
      "execution_count": null,
      "outputs": [
        {
          "output_type": "stream",
          "name": "stdout",
          "text": [
            "1\n"
          ]
        }
      ]
    },
    {
      "cell_type": "code",
      "source": [
        "#15. Write a code to create a tuple containing three different fruits and check if \"kiwi\" is in it.\n",
        "tuple2 =('apple','mango','kiwi')\n",
        "if 'kiwi' in tuple2:\n",
        "  print('kiwi is present')\n",
        "else:\n",
        "  print('Kiwi is not present')\n",
        "\n"
      ],
      "metadata": {
        "colab": {
          "base_uri": "https://localhost:8080/"
        },
        "id": "RG2YRQGfKkUz",
        "outputId": "f3243839-7ace-4e7d-a3c0-9499740df705"
      },
      "execution_count": null,
      "outputs": [
        {
          "output_type": "stream",
          "name": "stdout",
          "text": [
            "kiwi is present\n"
          ]
        }
      ]
    },
    {
      "cell_type": "code",
      "source": [
        "#16.  Write a code to create a set with the elements 'a', 'b', 'c' and print it.\n",
        "set = {'a','b','c'}\n",
        "print(set)"
      ],
      "metadata": {
        "colab": {
          "base_uri": "https://localhost:8080/"
        },
        "id": "mD1lPjaVKnwq",
        "outputId": "c2fd63f4-54c2-4935-9dd7-dec2d13f35e3"
      },
      "execution_count": null,
      "outputs": [
        {
          "output_type": "stream",
          "name": "stdout",
          "text": [
            "{'c', 'b', 'a'}\n"
          ]
        }
      ]
    },
    {
      "cell_type": "code",
      "source": [
        "#17. Write a code to clear all elements from the set {1, 2, 3, 4, 5}.\n",
        "set1 = {1,2,3,4,5}\n",
        "print(set1)\n",
        "print(set1.clear())\n",
        "print(set1)\n"
      ],
      "metadata": {
        "colab": {
          "base_uri": "https://localhost:8080/"
        },
        "id": "HvwyVLJ2MgaE",
        "outputId": "60bab225-9915-4820-db7d-20ac9d607aa2"
      },
      "execution_count": null,
      "outputs": [
        {
          "output_type": "stream",
          "name": "stdout",
          "text": [
            "{1, 2, 3, 4, 5}\n",
            "None\n",
            "set()\n"
          ]
        }
      ]
    },
    {
      "cell_type": "code",
      "source": [
        "#18. Write a code to remove the element 4 from the set {1, 2, 3, 4}.\n",
        "se ={1,2,3,4}\n",
        "(se.remove(4))\n",
        "print(se)"
      ],
      "metadata": {
        "colab": {
          "base_uri": "https://localhost:8080/"
        },
        "id": "OwCE-OT8MjrP",
        "outputId": "a498ff68-2271-4990-dcc0-d010978aec87"
      },
      "execution_count": null,
      "outputs": [
        {
          "output_type": "stream",
          "name": "stdout",
          "text": [
            "{1, 2, 3}\n"
          ]
        }
      ]
    },
    {
      "cell_type": "code",
      "source": [
        " #19. Write a code to find the union of two sets {1, 2, 3} and {3, 4, 5}.\n",
        " se1 = {1,2,3}\n",
        " se2 = {3,4,5}\n",
        " print(se1|se2)"
      ],
      "metadata": {
        "colab": {
          "base_uri": "https://localhost:8080/"
        },
        "id": "T7Uw3AGnMnZR",
        "outputId": "902cc682-8f8c-4b98-9d04-8472a4ddf34b"
      },
      "execution_count": null,
      "outputs": [
        {
          "output_type": "stream",
          "name": "stdout",
          "text": [
            "{1, 2, 3, 4, 5}\n"
          ]
        }
      ]
    },
    {
      "cell_type": "code",
      "source": [
        "#20.  Write a code to find the intersection of two sets {1, 2, 3} and {2, 3, 4}.\n",
        "se3 = {1,2,3}\n",
        "se4 = {2,3,4}\n",
        "print(se3&se4)\n"
      ],
      "metadata": {
        "colab": {
          "base_uri": "https://localhost:8080/"
        },
        "id": "SqhHdXywMp32",
        "outputId": "1b2d068a-255f-4b02-d9f2-d96df08141ff"
      },
      "execution_count": null,
      "outputs": [
        {
          "output_type": "stream",
          "name": "stdout",
          "text": [
            "{2, 3}\n"
          ]
        }
      ]
    },
    {
      "cell_type": "code",
      "source": [
        "#21.  Write a code to create a dictionary with the keys \"name\", \"age\", and \"city\", and print it.\n",
        "dict1 = {'name','age','city'}\n",
        "print(dict1)\n",
        "\n"
      ],
      "metadata": {
        "colab": {
          "base_uri": "https://localhost:8080/"
        },
        "id": "i4KlQjuZUqff",
        "outputId": "40e77a3d-de10-41d6-9a94-747a84a8fed3"
      },
      "execution_count": null,
      "outputs": [
        {
          "output_type": "stream",
          "name": "stdout",
          "text": [
            "{'age', 'city', 'name'}\n"
          ]
        }
      ]
    },
    {
      "cell_type": "code",
      "source": [
        "#22. Write a code to add a new key-value pair \"country\": \"USA\" to the dictionary {'name': 'John', 'age': 25}.\n",
        "dict1 = {'name':'John','age':25}\n",
        "dict1['country'] = 'USA'\n",
        "print(dict1)"
      ],
      "metadata": {
        "colab": {
          "base_uri": "https://localhost:8080/"
        },
        "id": "lJxzPnJpVLPV",
        "outputId": "327cefc4-eb0d-4874-9e24-c15639856a31"
      },
      "execution_count": null,
      "outputs": [
        {
          "output_type": "stream",
          "name": "stdout",
          "text": [
            "{'name': 'John', 'age': 25, 'country': 'USA'}\n"
          ]
        }
      ]
    },
    {
      "cell_type": "code",
      "source": [
        "\n",
        " #23. Write a code to access the value associated with the key \"name\" in the dictionary {'name': 'Alice', 'age': 30}.\n",
        " dict2 = {'name':'Alice','age':30}\n",
        " print(dict2['name'])\n",
        "\n"
      ],
      "metadata": {
        "colab": {
          "base_uri": "https://localhost:8080/"
        },
        "id": "a5NvM7-6YMqH",
        "outputId": "661474f8-8bae-49e2-e799-17da139985cb"
      },
      "execution_count": null,
      "outputs": [
        {
          "output_type": "stream",
          "name": "stdout",
          "text": [
            "Alice\n"
          ]
        }
      ]
    },
    {
      "cell_type": "code",
      "source": [
        " #24. Write a code to remove the key \"age\" from the dictionary {'name': 'Bob', 'age': 22, 'city': 'New York'}.\n",
        " dict3 = {'name': 'Bob', 'age': 22, 'city': 'New York'}\n",
        " del dict3['age']\n",
        " print(dict3)"
      ],
      "metadata": {
        "colab": {
          "base_uri": "https://localhost:8080/"
        },
        "id": "LeEaSh4fYRe2",
        "outputId": "d832c3e3-e12e-40b1-cd9e-0ec0b1f14dd9"
      },
      "execution_count": null,
      "outputs": [
        {
          "output_type": "stream",
          "name": "stdout",
          "text": [
            "{'name': 'Bob', 'city': 'New York'}\n"
          ]
        }
      ]
    },
    {
      "cell_type": "code",
      "source": [
        " #25. Write a code to remove the key \"age\" from the dictionary {'name': 'Bob', 'age': 22, 'city': 'New York'}.\n",
        " dict3 = {'name': 'Bob', 'age': 22, 'city': 'New York'}\n",
        " del dict3['age']\n",
        " print(dict3)"
      ],
      "metadata": {
        "colab": {
          "base_uri": "https://localhost:8080/"
        },
        "id": "nIrwM6OEYVlV",
        "outputId": "51ece635-8a27-4f95-f61d-d91b9522da41"
      },
      "execution_count": null,
      "outputs": [
        {
          "output_type": "stream",
          "name": "stdout",
          "text": [
            "{'name': 'Bob', 'city': 'New York'}\n"
          ]
        }
      ]
    },
    {
      "cell_type": "code",
      "source": [
        "\n",
        " #25. Write a code to check if the key \"city\" exists in the dictionary {'name': 'Alice', 'city': 'Paris'}.\n",
        " dict4 = {'name': 'Alice', 'city': 'Paris'}\n",
        " if 'city' in dict4:\n",
        "    print(\"The key 'city' exists in the dictionary.\")\n",
        "else:\n",
        "    print(\"The key 'city' does not exist in the dictionary.\")\n"
      ],
      "metadata": {
        "colab": {
          "base_uri": "https://localhost:8080/"
        },
        "id": "0Nr6EVqIYc57",
        "outputId": "6665be62-531f-4946-cbb5-dea185a8476e"
      },
      "execution_count": null,
      "outputs": [
        {
          "output_type": "stream",
          "name": "stdout",
          "text": [
            "The key 'city' exists in the dictionary.\n"
          ]
        }
      ]
    },
    {
      "cell_type": "code",
      "source": [
        " #26. Write a code to create a list, a tuple, and a dictionary, and print them all.\n",
        "list = [1,2,3,4,5,6]\n",
        "tuple = (1,2,3,4,5,6)\n",
        "dict = {'name':'sejal','age':'21','dob':'29/07/2004'}\n",
        "print(list)\n",
        "print(tuple)\n",
        "print(dict)\n"
      ],
      "metadata": {
        "colab": {
          "base_uri": "https://localhost:8080/"
        },
        "id": "dHXOsMYgYiyc",
        "outputId": "cc88d90f-5057-4ba3-b61e-68df09df9ef3"
      },
      "execution_count": null,
      "outputs": [
        {
          "output_type": "stream",
          "name": "stdout",
          "text": [
            "[1, 2, 3, 4, 5, 6]\n",
            "(1, 2, 3, 4, 5, 6)\n",
            "{'name': 'sejal', 'age': '21', 'dob': '29/07/2004'}\n"
          ]
        }
      ]
    },
    {
      "cell_type": "code",
      "source": [
        "#27. Write a code to create a list of 5 random numbers between 1 and 100, sort it in ascending order, and print the result.(replaced)\n",
        "\n",
        "list1 = [1,78,45,63,72,74,90]\n",
        "list1.sort()\n",
        "print(list1)\n"
      ],
      "metadata": {
        "colab": {
          "base_uri": "https://localhost:8080/"
        },
        "id": "M1z2D2mQYyma",
        "outputId": "3fa9d38e-48b6-4a4b-b314-c55e198ed3a2"
      },
      "execution_count": null,
      "outputs": [
        {
          "output_type": "stream",
          "name": "stdout",
          "text": [
            "[1, 45, 63, 72, 74, 78, 90]\n"
          ]
        }
      ]
    },
    {
      "cell_type": "code",
      "source": [
        " #28. Write a code to create a list with strings and print the element at the third index.\n",
        " list2 = ['Ajay','Vijay','Ram','Sita','sejal','Manya','Muskan']\n",
        " print(list2[3])\n",
        " print(list2.index(\"sejal\"))\n",
        "\n"
      ],
      "metadata": {
        "colab": {
          "base_uri": "https://localhost:8080/"
        },
        "id": "3quWiA7WY4MW",
        "outputId": "de681c93-3923-4606-a7ec-f1e34651806b"
      },
      "execution_count": null,
      "outputs": [
        {
          "output_type": "stream",
          "name": "stdout",
          "text": [
            "Sita\n",
            "4\n"
          ]
        }
      ]
    },
    {
      "cell_type": "code",
      "source": [
        " #29. Write a code to combine two dictionaries into one and print the result.\n",
        " dict1 = {'a':1,'b':2,'c':3,'d':4,'e':5}\n",
        " dict2 ={'name':'SejalRana','Age':21,'Address':'Himachal Pradesh'}\n",
        " (dict1.update(dict2))\n",
        " print(dict1)\n"
      ],
      "metadata": {
        "colab": {
          "base_uri": "https://localhost:8080/"
        },
        "id": "Ni87etPLY5Q0",
        "outputId": "933b0784-fc97-4c0f-8ce7-374268b3233d"
      },
      "execution_count": null,
      "outputs": [
        {
          "output_type": "stream",
          "name": "stdout",
          "text": [
            "{'a': 1, 'b': 2, 'c': 3, 'd': 4, 'e': 5, 'name': 'SejalRana', 'Age': 21, 'Address': 'Himachal Pradesh'}\n"
          ]
        }
      ]
    },
    {
      "cell_type": "code",
      "source": [
        " #30. Write a code to convert a list of strings into a set?\n",
        "string_list = [\"apple\", \"banana\", \"cherry\", \"apple\", \"banana\"]\n",
        "\n",
        "# Convert the list to a set\n",
        "string_set = set(string_list)\n",
        "\n",
        "# Print the set\n",
        "print(string_set)\n"
      ],
      "metadata": {
        "colab": {
          "base_uri": "https://localhost:8080/"
        },
        "id": "q-md-KRVY8cq",
        "outputId": "c9890367-2734-42c6-917d-3734b550e980"
      },
      "execution_count": 1,
      "outputs": [
        {
          "output_type": "stream",
          "name": "stdout",
          "text": [
            "{'banana', 'apple', 'cherry'}\n"
          ]
        }
      ]
    }
  ]
}